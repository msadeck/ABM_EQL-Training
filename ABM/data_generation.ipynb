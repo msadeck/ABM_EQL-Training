{
 "cells": [
  {
   "cell_type": "code",
   "execution_count": 1,
   "id": "992cc865-a9b3-4e3a-bc23-0de9b05c5e1d",
   "metadata": {},
   "outputs": [],
   "source": [
    "import math\n",
    "import random\n",
    "import numpy as np\n",
    "import matplotlib.pyplot as plt\n",
    "import pdb\n",
    "from scipy import integrate\n",
    "import matplotlib as mpl\n",
    "from scipy import interpolate\n",
    "import time\n",
    "\n",
    "from ABM_package import *\n",
    "\n",
    "\n",
    "rp = 0.5\n",
    "rd = 0.125\n",
    "rm = 1.0\n",
    "f= 1\n",
    "\n",
    "for i \n",
    "A_out,T_out,plot_list=BDM_ABM(rp,rd,rm,f,T_end=50.0)\n",
    "t= T_out\n",
    "ABM= A_out\n",
    "\n",
    "\n",
    "\n",
    "ABM_t= compute_derivative(t, ABM)\n",
    "\n",
    "t2= t.reshape(-1,1)\n",
    "ABM2=ABM.reshape(-1,1)\n",
    "ABM_t2=ABM_t.reshape(-1,1)\n",
    "\n",
    "data= {'variables': [t2, ABM2, ABM_t2]}\n",
    "np.save(\"../data/test3.npy\", data)\n"
   ]
  },
  {
   "cell_type": "code",
   "execution_count": null,
   "id": "e4a0b6b7-e2bc-4965-aad0-06c64fe7eda9",
   "metadata": {},
   "outputs": [],
   "source": [
    "\n"
   ]
  }
 ],
 "metadata": {
  "kernelspec": {
   "display_name": "Python [conda env:base] *",
   "language": "python",
   "name": "conda-base-py"
  },
  "language_info": {
   "codemirror_mode": {
    "name": "ipython",
    "version": 3
   },
   "file_extension": ".py",
   "mimetype": "text/x-python",
   "name": "python",
   "nbconvert_exporter": "python",
   "pygments_lexer": "ipython3",
   "version": "3.12.7"
  }
 },
 "nbformat": 4,
 "nbformat_minor": 5
}
