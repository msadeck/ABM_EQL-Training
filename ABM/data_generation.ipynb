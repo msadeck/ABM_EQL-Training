{
 "cells": [
  {
   "cell_type": "code",
   "execution_count": 3,
   "id": "992cc865-a9b3-4e3a-bc23-0de9b05c5e1d",
   "metadata": {},
   "outputs": [
    {
     "ename": "KeyboardInterrupt",
     "evalue": "",
     "output_type": "error",
     "traceback": [
      "\u001b[0;31m---------------------------------------------------------------------------\u001b[0m",
      "\u001b[0;31mKeyboardInterrupt\u001b[0m                         Traceback (most recent call last)",
      "Cell \u001b[0;32mIn[3], line 25\u001b[0m\n\u001b[1;32m     22\u001b[0m \u001b[38;5;66;03m# Loop to generate 100 runs\u001b[39;00m\n\u001b[1;32m     23\u001b[0m \u001b[38;5;28;01mfor\u001b[39;00m i \u001b[38;5;129;01min\u001b[39;00m \u001b[38;5;28mrange\u001b[39m(\u001b[38;5;241m20\u001b[39m):\n\u001b[1;32m     24\u001b[0m     \u001b[38;5;66;03m# Run the model\u001b[39;00m\n\u001b[0;32m---> 25\u001b[0m     A_out, T_out, plot_list \u001b[38;5;241m=\u001b[39m BDM_ABM(rp, rd, rm, f, T_end\u001b[38;5;241m=\u001b[39m\u001b[38;5;241m15.0\u001b[39m)\n\u001b[1;32m     27\u001b[0m     \u001b[38;5;66;03m# Append outputs to lists\u001b[39;00m\n\u001b[1;32m     28\u001b[0m     all_A_out\u001b[38;5;241m.\u001b[39mappend(A_out)\n",
      "File \u001b[0;32m~/Desktop/Anaconda Source Samples/Learning-DE-models-from-stochastic-ABMs-master/ABM/ABM_package.py:163\u001b[0m, in \u001b[0;36mBDM_ABM\u001b[0;34m(rp, rd, rm, f, T_end)\u001b[0m\n\u001b[1;32m    159\u001b[0m \u001b[38;5;28;01mwhile\u001b[39;00m t_list[\u001b[38;5;241m-\u001b[39m\u001b[38;5;241m1\u001b[39m] \u001b[38;5;241m<\u001b[39m T_final:\n\u001b[1;32m    160\u001b[0m     \u001b[38;5;66;03m# Select Random agent\u001b[39;00m\n\u001b[1;32m    162\u001b[0m     agent_loc \u001b[38;5;241m=\u001b[39m np\u001b[38;5;241m.\u001b[39mwhere(A\u001b[38;5;241m!=\u001b[39m\u001b[38;5;241m0\u001b[39m)\n\u001b[0;32m--> 163\u001b[0m     agent_ind \u001b[38;5;241m=\u001b[39m np\u001b[38;5;241m.\u001b[39mrandom\u001b[38;5;241m.\u001b[39mpermutation(\u001b[38;5;28mlen\u001b[39m(agent_loc[\u001b[38;5;241m0\u001b[39m]))[\u001b[38;5;241m0\u001b[39m]\n\u001b[1;32m    164\u001b[0m     loc \u001b[38;5;241m=\u001b[39m (agent_loc[\u001b[38;5;241m0\u001b[39m][agent_ind],agent_loc[\u001b[38;5;241m1\u001b[39m][agent_ind])\n\u001b[1;32m    166\u001b[0m     mask \u001b[38;5;241m=\u001b[39m local_neighborhood_mask((n,n,),loc,distance\u001b[38;5;241m=\u001b[39m\u001b[38;5;241m1\u001b[39m)\n",
      "\u001b[0;31mKeyboardInterrupt\u001b[0m: "
     ]
    }
   ],
   "source": [
    "import math\n",
    "import random\n",
    "import numpy as np\n",
    "import matplotlib.pyplot as plt\n",
    "import pdb\n",
    "from scipy import integrate\n",
    "import matplotlib as mpl\n",
    "from scipy import interpolate\n",
    "import time\n",
    "\n",
    "from ABM_package import *\n",
    "\n",
    "\n",
    "rp = 0.5\n",
    "rd = 0.125\n",
    "rm = 1.0\n",
    "f= 1\n",
    "\n",
    "all_A_out = []\n",
    "all_T_out = []\n",
    "\n",
    "# Loop to generate 100 runs\n",
    "for i in range(20):\n",
    "    # Run the model\n",
    "    A_out, T_out, plot_list = BDM_ABM(rp, rd, rm, f, T_end=15.0)\n",
    "    \n",
    "    # Append outputs to lists\n",
    "    all_A_out.append(A_out)\n",
    "\n",
    "# Convert lists to numpy arrays (matrices)\n",
    "# Shape will be (100, length_of_each_run)\n",
    "A_matrix = np.array(all_A_out)\n",
    "\n",
    "#take the averages at each time point across each simulation\n",
    "sim_ave=np.mean(A_matrix, axis=0)\n",
    "ABM_t= compute_derivative(T_out, sim_ave)\n",
    "\n",
    "t2= T_out.reshape(-1,1)\n",
    "ABM2=sim_ave.reshape(-1,1)\n",
    "ABM_t2=ABM_t.reshape(-1,1)\n",
    "\n",
    "data= {'variables': [t2, ABM2, ABM_t2]}\n",
    "np.save(\"../data/test5.npy\", data)\n",
    "\n"
   ]
  },
  {
   "cell_type": "code",
   "execution_count": null,
   "id": "beff95da-137c-4bfe-b9cb-c9be9eb6f7e7",
   "metadata": {},
   "outputs": [],
   "source": []
  }
 ],
 "metadata": {
  "kernelspec": {
   "display_name": "Python [conda env:base] *",
   "language": "python",
   "name": "conda-base-py"
  },
  "language_info": {
   "codemirror_mode": {
    "name": "ipython",
    "version": 3
   },
   "file_extension": ".py",
   "mimetype": "text/x-python",
   "name": "python",
   "nbconvert_exporter": "python",
   "pygments_lexer": "ipython3",
   "version": "3.12.7"
  }
 },
 "nbformat": 4,
 "nbformat_minor": 5
}
