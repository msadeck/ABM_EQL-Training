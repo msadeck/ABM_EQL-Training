{
 "cells": [
  {
   "cell_type": "code",
   "execution_count": 1,
   "metadata": {},
   "outputs": [],
   "source": [
    "import math\n",
    "import random\n",
    "import numpy as np\n",
    "import matplotlib.pyplot as plt\n",
    "import pdb\n",
    "from scipy import integrate\n",
    "import matplotlib as mpl\n",
    "from scipy import interpolate\n",
    "import time\n",
    "\n",
    "from ABM_package import *"
   ]
  },
  {
   "cell_type": "code",
   "execution_count": 2,
   "metadata": {},
   "outputs": [
    {
     "ename": "AttributeError",
     "evalue": "module 'numpy' has no attribute 'float'.\n`np.float` was a deprecated alias for the builtin `float`. To avoid this error in existing code, use `float` by itself. Doing this will not modify any behavior and is safe. If you specifically wanted the numpy scalar type, use `np.float64` here.\nThe aliases was originally deprecated in NumPy 1.20; for more details and guidance see the original release note at:\n    https://numpy.org/devdocs/release/1.20.0-notes.html#deprecations",
     "output_type": "error",
     "traceback": [
      "\u001b[0;31m---------------------------------------------------------------------------\u001b[0m",
      "\u001b[0;31mAttributeError\u001b[0m                            Traceback (most recent call last)",
      "Cell \u001b[0;32mIn[2], line 20\u001b[0m\n\u001b[1;32m     17\u001b[0m N \u001b[38;5;241m=\u001b[39m s0 \u001b[38;5;241m+\u001b[39m i0 \u001b[38;5;241m+\u001b[39m r0\n\u001b[1;32m     19\u001b[0m \u001b[38;5;66;03m#simulate ABM\u001b[39;00m\n\u001b[0;32m---> 20\u001b[0m S,I,R,t,A_list,_ \u001b[38;5;241m=\u001b[39m SIR_ABM(ri,rr,rm,T_end)\n\u001b[1;32m     22\u001b[0m \u001b[38;5;66;03m#simulate mean-field model\u001b[39;00m\n\u001b[1;32m     23\u001b[0m SIR_y \u001b[38;5;241m=\u001b[39m ODE_sim(np\u001b[38;5;241m.\u001b[39marray([ri\u001b[38;5;241m*\u001b[39mN,rr]),SIR_ODE,t,np\u001b[38;5;241m.\u001b[39marray([s0\u001b[38;5;241m/\u001b[39mN,i0\u001b[38;5;241m/\u001b[39mN,r0\u001b[38;5;241m/\u001b[39mN]))\n",
      "File \u001b[0;32m~/Desktop/Learning-DE-models-from-stochastic-ABMs-master/ABM/ABM_package.py:349\u001b[0m, in \u001b[0;36mSIR_ABM\u001b[0;34m(ri, rr, rm, T_end)\u001b[0m\n\u001b[1;32m    347\u001b[0m R_num \u001b[38;5;241m=\u001b[39m np\u001b[38;5;241m.\u001b[39msum(A\u001b[38;5;241m==\u001b[39m\u001b[38;5;241m3\u001b[39m)\n\u001b[1;32m    348\u001b[0m \u001b[38;5;66;03m#convert counts to proportions\u001b[39;00m\n\u001b[0;32m--> 349\u001b[0m S \u001b[38;5;241m=\u001b[39m \u001b[38;5;28mfloat\u001b[39m(S_num)\u001b[38;5;241m/\u001b[39mnp\u001b[38;5;241m.\u001b[39mfloat(total_num)\n\u001b[1;32m    350\u001b[0m I \u001b[38;5;241m=\u001b[39m \u001b[38;5;28mfloat\u001b[39m(I_num)\u001b[38;5;241m/\u001b[39mnp\u001b[38;5;241m.\u001b[39mfloat(total_num)\n\u001b[1;32m    351\u001b[0m R \u001b[38;5;241m=\u001b[39m \u001b[38;5;28mfloat\u001b[39m(R_num)\u001b[38;5;241m/\u001b[39mnp\u001b[38;5;241m.\u001b[39mfloat(total_num)\n",
      "File \u001b[0;32m/opt/anaconda3/lib/python3.12/site-packages/numpy/__init__.py:324\u001b[0m, in \u001b[0;36m__getattr__\u001b[0;34m(attr)\u001b[0m\n\u001b[1;32m    319\u001b[0m     warnings\u001b[38;5;241m.\u001b[39mwarn(\n\u001b[1;32m    320\u001b[0m         \u001b[38;5;124mf\u001b[39m\u001b[38;5;124m\"\u001b[39m\u001b[38;5;124mIn the future `np.\u001b[39m\u001b[38;5;132;01m{\u001b[39;00mattr\u001b[38;5;132;01m}\u001b[39;00m\u001b[38;5;124m` will be defined as the \u001b[39m\u001b[38;5;124m\"\u001b[39m\n\u001b[1;32m    321\u001b[0m         \u001b[38;5;124m\"\u001b[39m\u001b[38;5;124mcorresponding NumPy scalar.\u001b[39m\u001b[38;5;124m\"\u001b[39m, \u001b[38;5;167;01mFutureWarning\u001b[39;00m, stacklevel\u001b[38;5;241m=\u001b[39m\u001b[38;5;241m2\u001b[39m)\n\u001b[1;32m    323\u001b[0m \u001b[38;5;28;01mif\u001b[39;00m attr \u001b[38;5;129;01min\u001b[39;00m __former_attrs__:\n\u001b[0;32m--> 324\u001b[0m     \u001b[38;5;28;01mraise\u001b[39;00m \u001b[38;5;167;01mAttributeError\u001b[39;00m(__former_attrs__[attr])\n\u001b[1;32m    326\u001b[0m \u001b[38;5;28;01mif\u001b[39;00m attr \u001b[38;5;241m==\u001b[39m \u001b[38;5;124m'\u001b[39m\u001b[38;5;124mtesting\u001b[39m\u001b[38;5;124m'\u001b[39m:\n\u001b[1;32m    327\u001b[0m     \u001b[38;5;28;01mimport\u001b[39;00m \u001b[38;5;21;01mnumpy\u001b[39;00m\u001b[38;5;21;01m.\u001b[39;00m\u001b[38;5;21;01mtesting\u001b[39;00m \u001b[38;5;28;01mas\u001b[39;00m \u001b[38;5;21;01mtesting\u001b[39;00m\n",
      "\u001b[0;31mAttributeError\u001b[0m: module 'numpy' has no attribute 'float'.\n`np.float` was a deprecated alias for the builtin `float`. To avoid this error in existing code, use `float` by itself. Doing this will not modify any behavior and is safe. If you specifically wanted the numpy scalar type, use `np.float64` here.\nThe aliases was originally deprecated in NumPy 1.20; for more details and guidance see the original release note at:\n    https://numpy.org/devdocs/release/1.20.0-notes.html#deprecations"
     ]
    }
   ],
   "source": [
    "#parameters\n",
    "ri = 0.1\n",
    "rr = ri/10.0\n",
    "rm = 1.0\n",
    "\n",
    "#final time point\n",
    "T_end = 5.0\n",
    "t = np.linspace(0,T_end/rr,100)\n",
    "plot_ind = [2,7,15]\n",
    "\n",
    "#initial fraction of susceptible (S), infected (I), and recovered (R) agents\n",
    "# (should sum to less than 1)\n",
    "\n",
    "s0 = 0.49\n",
    "i0 = 0.01\n",
    "r0 = 0\n",
    "N = s0 + i0 + r0\n",
    "\n",
    "#simulate ABM\n",
    "S,I,R,t,A_list,_ = SIR_ABM(ri,rr,rm,T_end)\n",
    "\n",
    "#simulate mean-field model\n",
    "SIR_y = ODE_sim(np.array([ri*N,rr]),SIR_ODE,t,np.array([s0/N,i0/N,r0/N]))\n",
    "\n",
    "#plot!\n",
    "fig = plt.figure(figsize=(12,3))\n",
    "\n",
    "cmaplist = [(1.0,1.0,1.0,1.0),(0.0,0.0,1.0,1.0),(0.0,200.0/256.0,0.0,1.0),(0.0,0.0,0.0,1.0)]\n",
    "cmap = mpl.colors.LinearSegmentedColormap.from_list(\n",
    "    'Custom cmap', cmaplist, N = 4)\n",
    "\n",
    "for i in np.arange(3):\n",
    "\n",
    "    ax = fig.add_subplot(1,4,1+i,adjustable='box')\n",
    "    ax.matshow(A_list[plot_ind[i]],cmap=cmap,vmax=3)\n",
    "    ax.set_xticks([])\n",
    "    ax.set_yticks([])\n",
    "\n",
    "\n",
    "\n",
    "\n",
    "ax = fig.add_subplot(1,4,4)\n",
    "\n",
    "#Mean-field model\n",
    "ax.plot(rr*t,SIR_y[0,:],'b-',label=\"S\")\n",
    "ax.plot(rr*t,SIR_y[1,:],'g-',label=\"I\")\n",
    "ax.plot(rr*t,SIR_y[2,:],'k-',label=\"R\")\n",
    "\n",
    "atit = ax.set_title(\"ABM output vs. MF model\")\n",
    "atit.set_position((0.5,1.05))\n",
    "ax.set_ylabel(\"$S,I,R$\")\n",
    "ax.yaxis.tick_right()\n",
    "\n",
    "#ABM output\n",
    "ax.plot(rr*t[::4],S[::4],'b.',markersize=8)\n",
    "ax.plot(rr*t[::4],I[::4],'g.',markersize=8)\n",
    "ax.plot(rr*t[::4],R[::4],'k.',markersize=8)"
   ]
  },
  {
   "cell_type": "markdown",
   "metadata": {},
   "source": [
    "## Save data for EQL "
   ]
  },
  {
   "cell_type": "code",
   "execution_count": null,
   "metadata": {},
   "outputs": [],
   "source": [
    "rm = 1.0\n",
    "reals = 5\n",
    "T_end = 5.0"
   ]
  },
  {
   "cell_type": "code",
   "execution_count": null,
   "metadata": {},
   "outputs": [],
   "source": [
    "def finite_diff(C,dt):\n",
    "    dCdt = np.zeros(C.shape)\n",
    "    dCdt[1:-1] = (C[2:] - C[:-2])/(2*dt)\n",
    "    dCdt[0] = (C[1] - C[0])/dt\n",
    "    dCdt[-1] = (C[-1] - C[-2])/dt\n",
    "\n",
    "    return dCdt\n"
   ]
  },
  {
   "cell_type": "code",
   "execution_count": null,
   "metadata": {},
   "outputs": [],
   "source": [
    "## Note: This code will take very long for large \"reals\" values and small values of \"ri\"\n",
    "\n",
    "#loop over infection rates\n",
    "for ri in [.25]:#[.25,.1,.01,.005]:\n",
    "    #loop over recovery rates\n",
    "    for rr in [ri]:#,ri/2.0,ri/4.0,ri/10.0]:\n",
    "\n",
    "        print(\"parameter values P_I = \" + str(ri) + \", P_R = \" +str(rr))\n",
    "    \n",
    "        for i in np.arange(reals):\n",
    "            print(\"    Computing realization: \"+ str(i))\n",
    "\n",
    "            #compute ABM\n",
    "            S,I,R,t,A_list,N = SIR_ABM(ri,rr,rm,T_end)\n",
    "\n",
    "            #save to variable\n",
    "            if i == 0:\n",
    "                S_reals = S[:,np.newaxis]\n",
    "                I_reals = I[:,np.newaxis]\n",
    "                R_reals = R[:,np.newaxis]\n",
    "            else:\n",
    "                S_reals = np.hstack([S_reals,S[:,np.newaxis]])\n",
    "                I_reals = np.hstack([I_reals,I[:,np.newaxis]])\n",
    "                R_reals = np.hstack([R_reals,R[:,np.newaxis]])\n",
    "            \n",
    "        #save to file\n",
    "        t = t[:,np.newaxis]\n",
    "        S = np.mean(S_reals,axis=1)[:,np.newaxis]\n",
    "        I = np.mean(I_reals,axis=1)[:,np.newaxis]\n",
    "        R = np.mean(R_reals,axis=1)[:,np.newaxis]\n",
    "\n",
    "        S_std = np.std(S_reals,axis=1)[:,np.newaxis]\n",
    "        I_std = np.std(I_reals,axis=1)[:,np.newaxis]\n",
    "        R_std = np.std(R_reals,axis=1)[:,np.newaxis]\n",
    "\n",
    "        dt = t[1] - t[0]\n",
    "\n",
    "        St = finite_diff(S,dt)\n",
    "        It = finite_diff(I,dt)\n",
    "        Rt = finite_diff(R,dt)\n",
    "\n",
    "        variables = np.hstack((t,S,St,I,It,R,Rt))\n",
    "        variable_names = ['t','S','St','I','It','R','Rt']\n",
    "\n",
    "        data = {}\n",
    "\n",
    "        data['variables'] = variables \n",
    "        data['variable_names'] = variable_names\n",
    "\n",
    "        data['rr'] = rr\n",
    "        data['ri'] = ri\n",
    "        data['rm'] = rm\n",
    "\n",
    "        np.save(\"../data/SIR_ABM_TEST_ri_\"+str(round(ri,3)) + \"_rr_\"+str(round(rr,3)) + \"_real\"+str(i+1)+\".npy\",data)"
   ]
  },
  {
   "cell_type": "code",
   "execution_count": null,
   "metadata": {},
   "outputs": [],
   "source": []
  }
 ],
 "metadata": {
  "kernelspec": {
   "display_name": "Python [conda env:base] *",
   "language": "python",
   "name": "conda-base-py"
  },
  "language_info": {
   "codemirror_mode": {
    "name": "ipython",
    "version": 3
   },
   "file_extension": ".py",
   "mimetype": "text/x-python",
   "name": "python",
   "nbconvert_exporter": "python",
   "pygments_lexer": "ipython3",
   "version": "3.12.7"
  }
 },
 "nbformat": 4,
 "nbformat_minor": 4
}
